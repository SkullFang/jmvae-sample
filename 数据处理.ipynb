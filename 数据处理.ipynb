{
 "cells": [
  {
   "cell_type": "code",
   "execution_count": 2,
   "metadata": {},
   "outputs": [],
   "source": [
    "import pandas as pd"
   ]
  },
  {
   "cell_type": "markdown",
   "metadata": {},
   "source": [
    "# 读数据"
   ]
  },
  {
   "cell_type": "code",
   "execution_count": 4,
   "metadata": {},
   "outputs": [],
   "source": [
    "df=pd.read_excel(\"./temporary/dataset.xlsx\")"
   ]
  },
  {
   "cell_type": "code",
   "execution_count": 5,
   "metadata": {},
   "outputs": [
    {
     "data": {
      "text/html": [
       "<div>\n",
       "<style scoped>\n",
       "    .dataframe tbody tr th:only-of-type {\n",
       "        vertical-align: middle;\n",
       "    }\n",
       "\n",
       "    .dataframe tbody tr th {\n",
       "        vertical-align: top;\n",
       "    }\n",
       "\n",
       "    .dataframe thead th {\n",
       "        text-align: right;\n",
       "    }\n",
       "</style>\n",
       "<table border=\"1\" class=\"dataframe\">\n",
       "  <thead>\n",
       "    <tr style=\"text-align: right;\">\n",
       "      <th></th>\n",
       "      <th>\\nrp.7eleven_bottle_coffee_1.png</th>\n",
       "      <th>0.87</th>\n",
       "      <th>1.175</th>\n",
       "      <th>1.3</th>\n",
       "    </tr>\n",
       "  </thead>\n",
       "  <tbody>\n",
       "    <tr>\n",
       "      <th>0</th>\n",
       "      <td>\\nrp.7eleven_bottle_coffee_2.png</td>\n",
       "      <td>0.87</td>\n",
       "      <td>1.375</td>\n",
       "      <td>1.3</td>\n",
       "    </tr>\n",
       "    <tr>\n",
       "      <th>1</th>\n",
       "      <td>\\nrp.7eleven_bottle_coffee_3.png</td>\n",
       "      <td>0.87</td>\n",
       "      <td>1.575</td>\n",
       "      <td>1.3</td>\n",
       "    </tr>\n",
       "    <tr>\n",
       "      <th>2</th>\n",
       "      <td>\\nrp.7eleven_bottle_coffee_4.png</td>\n",
       "      <td>0.87</td>\n",
       "      <td>1.775</td>\n",
       "      <td>1.3</td>\n",
       "    </tr>\n",
       "    <tr>\n",
       "      <th>3</th>\n",
       "      <td>\\nrp.7eleven_bottle_coffee_5.png</td>\n",
       "      <td>0.72</td>\n",
       "      <td>1.175</td>\n",
       "      <td>1.3</td>\n",
       "    </tr>\n",
       "    <tr>\n",
       "      <th>4</th>\n",
       "      <td>\\nrp.7eleven_bottle_coffee_6.png</td>\n",
       "      <td>0.72</td>\n",
       "      <td>1.375</td>\n",
       "      <td>1.3</td>\n",
       "    </tr>\n",
       "    <tr>\n",
       "      <th>5</th>\n",
       "      <td>\\nrp.7eleven_bottle_coffee_7.png</td>\n",
       "      <td>0.72</td>\n",
       "      <td>1.575</td>\n",
       "      <td>1.3</td>\n",
       "    </tr>\n",
       "    <tr>\n",
       "      <th>6</th>\n",
       "      <td>\\nrp.7eleven_bottle_coffee_8.png</td>\n",
       "      <td>0.72</td>\n",
       "      <td>1.775</td>\n",
       "      <td>1.3</td>\n",
       "    </tr>\n",
       "    <tr>\n",
       "      <th>7</th>\n",
       "      <td>\\nrp.7eleven_bottle_juice_grape_1.png</td>\n",
       "      <td>0.87</td>\n",
       "      <td>1.175</td>\n",
       "      <td>1.1</td>\n",
       "    </tr>\n",
       "    <tr>\n",
       "      <th>8</th>\n",
       "      <td>\\nrp.7eleven_bottle_juice_grape_2.png</td>\n",
       "      <td>0.87</td>\n",
       "      <td>1.375</td>\n",
       "      <td>1.1</td>\n",
       "    </tr>\n",
       "    <tr>\n",
       "      <th>9</th>\n",
       "      <td>\\nrp.7eleven_bottle_juice_grape_3.png</td>\n",
       "      <td>0.87</td>\n",
       "      <td>1.575</td>\n",
       "      <td>1.1</td>\n",
       "    </tr>\n",
       "  </tbody>\n",
       "</table>\n",
       "</div>"
      ],
      "text/plain": [
       "        \\nrp.7eleven_bottle_coffee_1.png  0.87  1.175  1.3\n",
       "0       \\nrp.7eleven_bottle_coffee_2.png  0.87  1.375  1.3\n",
       "1       \\nrp.7eleven_bottle_coffee_3.png  0.87  1.575  1.3\n",
       "2       \\nrp.7eleven_bottle_coffee_4.png  0.87  1.775  1.3\n",
       "3       \\nrp.7eleven_bottle_coffee_5.png  0.72  1.175  1.3\n",
       "4       \\nrp.7eleven_bottle_coffee_6.png  0.72  1.375  1.3\n",
       "5       \\nrp.7eleven_bottle_coffee_7.png  0.72  1.575  1.3\n",
       "6       \\nrp.7eleven_bottle_coffee_8.png  0.72  1.775  1.3\n",
       "7  \\nrp.7eleven_bottle_juice_grape_1.png  0.87  1.175  1.1\n",
       "8  \\nrp.7eleven_bottle_juice_grape_2.png  0.87  1.375  1.1\n",
       "9  \\nrp.7eleven_bottle_juice_grape_3.png  0.87  1.575  1.1"
      ]
     },
     "execution_count": 5,
     "metadata": {},
     "output_type": "execute_result"
    }
   ],
   "source": [
    "df.head(10)"
   ]
  },
  {
   "cell_type": "markdown",
   "metadata": {},
   "source": [
    "# 处理数据\n",
    "这里路径前面有/n,另外坐标不是一列，没有列名"
   ]
  },
  {
   "cell_type": "code",
   "execution_count": 7,
   "metadata": {},
   "outputs": [],
   "source": [
    "df.columns=['path','x','y','z'] # 给一个列名\n",
    "x=df['x'].values\n",
    "y=df['y'].values\n",
    "z=df['z'].values"
   ]
  },
  {
   "cell_type": "code",
   "execution_count": 8,
   "metadata": {},
   "outputs": [],
   "source": [
    "# 合并x,y,z\n",
    "merge_list=[]\n",
    "for i in range(len(x)):\n",
    "    merge_list.append([x[i],y[i],z[i]])"
   ]
  },
  {
   "cell_type": "code",
   "execution_count": 9,
   "metadata": {},
   "outputs": [
    {
     "data": {
      "text/plain": [
       "119"
      ]
     },
     "execution_count": 9,
     "metadata": {},
     "output_type": "execute_result"
    }
   ],
   "source": [
    "len(merge_list)"
   ]
  },
  {
   "cell_type": "code",
   "execution_count": 10,
   "metadata": {},
   "outputs": [],
   "source": [
    "df['loc']=merge_list"
   ]
  },
  {
   "cell_type": "code",
   "execution_count": 11,
   "metadata": {},
   "outputs": [
    {
     "data": {
      "text/html": [
       "<div>\n",
       "<style scoped>\n",
       "    .dataframe tbody tr th:only-of-type {\n",
       "        vertical-align: middle;\n",
       "    }\n",
       "\n",
       "    .dataframe tbody tr th {\n",
       "        vertical-align: top;\n",
       "    }\n",
       "\n",
       "    .dataframe thead th {\n",
       "        text-align: right;\n",
       "    }\n",
       "</style>\n",
       "<table border=\"1\" class=\"dataframe\">\n",
       "  <thead>\n",
       "    <tr style=\"text-align: right;\">\n",
       "      <th></th>\n",
       "      <th>path</th>\n",
       "      <th>x</th>\n",
       "      <th>y</th>\n",
       "      <th>z</th>\n",
       "      <th>loc</th>\n",
       "    </tr>\n",
       "  </thead>\n",
       "  <tbody>\n",
       "    <tr>\n",
       "      <th>0</th>\n",
       "      <td>\\nrp.7eleven_bottle_coffee_2.png</td>\n",
       "      <td>0.87</td>\n",
       "      <td>1.375</td>\n",
       "      <td>1.3</td>\n",
       "      <td>[0.87, 1.375, 1.3]</td>\n",
       "    </tr>\n",
       "    <tr>\n",
       "      <th>1</th>\n",
       "      <td>\\nrp.7eleven_bottle_coffee_3.png</td>\n",
       "      <td>0.87</td>\n",
       "      <td>1.575</td>\n",
       "      <td>1.3</td>\n",
       "      <td>[0.87, 1.575, 1.3]</td>\n",
       "    </tr>\n",
       "    <tr>\n",
       "      <th>2</th>\n",
       "      <td>\\nrp.7eleven_bottle_coffee_4.png</td>\n",
       "      <td>0.87</td>\n",
       "      <td>1.775</td>\n",
       "      <td>1.3</td>\n",
       "      <td>[0.87, 1.775, 1.3]</td>\n",
       "    </tr>\n",
       "  </tbody>\n",
       "</table>\n",
       "</div>"
      ],
      "text/plain": [
       "                               path     x      y    z                 loc\n",
       "0  \\nrp.7eleven_bottle_coffee_2.png  0.87  1.375  1.3  [0.87, 1.375, 1.3]\n",
       "1  \\nrp.7eleven_bottle_coffee_3.png  0.87  1.575  1.3  [0.87, 1.575, 1.3]\n",
       "2  \\nrp.7eleven_bottle_coffee_4.png  0.87  1.775  1.3  [0.87, 1.775, 1.3]"
      ]
     },
     "execution_count": 11,
     "metadata": {},
     "output_type": "execute_result"
    }
   ],
   "source": [
    "df.head(3)"
   ]
  },
  {
   "cell_type": "markdown",
   "metadata": {},
   "source": [
    "# 生成.npy数据"
   ]
  },
  {
   "cell_type": "code",
   "execution_count": 12,
   "metadata": {},
   "outputs": [],
   "source": [
    "files=df['path'].values\n",
    "files = [i[1:] for i in files]"
   ]
  },
  {
   "cell_type": "code",
   "execution_count": 13,
   "metadata": {},
   "outputs": [],
   "source": [
    "import numpy as np"
   ]
  },
  {
   "cell_type": "code",
   "execution_count": 14,
   "metadata": {},
   "outputs": [],
   "source": [
    "np.save(\"train.npy\",files)"
   ]
  },
  {
   "cell_type": "code",
   "execution_count": 15,
   "metadata": {},
   "outputs": [],
   "source": [
    "np.save(\"label.npy\",list(merge_list))"
   ]
  },
  {
   "cell_type": "code",
   "execution_count": null,
   "metadata": {},
   "outputs": [],
   "source": []
  }
 ],
 "metadata": {
  "kernelspec": {
   "display_name": "Python 3",
   "language": "python",
   "name": "python3"
  },
  "language_info": {
   "codemirror_mode": {
    "name": "ipython",
    "version": 3
   },
   "file_extension": ".py",
   "mimetype": "text/x-python",
   "name": "python",
   "nbconvert_exporter": "python",
   "pygments_lexer": "ipython3",
   "version": "3.6.5"
  }
 },
 "nbformat": 4,
 "nbformat_minor": 4
}
